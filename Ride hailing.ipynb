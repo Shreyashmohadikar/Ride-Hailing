{
 "cells": [
  {
   "cell_type": "code",
   "execution_count": 1,
   "id": "2a647d86",
   "metadata": {},
   "outputs": [],
   "source": [
    "import numpy as np"
   ]
  },
  {
   "cell_type": "code",
   "execution_count": 2,
   "id": "bd7726bd",
   "metadata": {},
   "outputs": [],
   "source": [
    "from pyhailing import RidehailEnv\n",
    "\n",
    "env = RidehailEnv()\n",
    "env.reset()\n"
   ]
  },
  {
   "cell_type": "code",
   "execution_count": 3,
   "id": "b783f607",
   "metadata": {},
   "outputs": [],
   "source": [
    "rideHail = {'time','dow','request_locs','request_times','v_locs','v_jobs','v_job_locs'} "
   ]
  },
  {
   "cell_type": "code",
   "execution_count": 4,
   "id": "c73ebb0e",
   "metadata": {},
   "outputs": [],
   "source": [
    "request_locs = np.array([['num_pending_requests',],[2],[2]])"
   ]
  },
  {
   "cell_type": "code",
   "execution_count": 5,
   "id": "7487343b",
   "metadata": {},
   "outputs": [],
   "source": [
    "request_times = np.array([['num_pending_requests']])"
   ]
  },
  {
   "cell_type": "code",
   "execution_count": 6,
   "id": "a14c0e76",
   "metadata": {},
   "outputs": [],
   "source": [
    "v_locs = np.array([['num_vehicles'],[2]])"
   ]
  },
  {
   "cell_type": "code",
   "execution_count": 7,
   "id": "ee93cec3",
   "metadata": {},
   "outputs": [],
   "source": [
    "v_jobs = np.array([['num_vehicles'],[3]])"
   ]
  },
  {
   "cell_type": "code",
   "execution_count": 8,
   "id": "41243a83",
   "metadata": {},
   "outputs": [],
   "source": [
    "v_job_locs = np.array([['num_vehicles'],[3],[2],[2]])"
   ]
  },
  {
   "cell_type": "code",
   "execution_count": 10,
   "id": "7e77a648",
   "metadata": {},
   "outputs": [],
   "source": [
    "req_rejections = np.array([['num_pending_requests']])"
   ]
  },
  {
   "cell_type": "code",
   "execution_count": 11,
   "id": "3480dbcf",
   "metadata": {},
   "outputs": [],
   "source": [
    "req_assgts = np.array([['num_pending_requests']])"
   ]
  },
  {
   "cell_type": "code",
   "execution_count": 16,
   "id": "804978f3",
   "metadata": {},
   "outputs": [],
   "source": [
    "from sklearn import linear_model\n",
    "model = linear_model.LinearRegression()\n",
    "model.fit(rideHail,req_rejections)"
   ]
  },
  {
   "cell_type": "code",
   "execution_count": null,
   "id": "8ee2da60",
   "metadata": {},
   "outputs": [],
   "source": []
  }
 ],
 "metadata": {
  "kernelspec": {
   "display_name": "Python 3",
   "language": "python",
   "name": "python3"
  },
  "language_info": {
   "codemirror_mode": {
    "name": "ipython",
    "version": 3
   },
   "file_extension": ".py",
   "mimetype": "text/x-python",
   "name": "python",
   "nbconvert_exporter": "python",
   "pygments_lexer": "ipython3",
   "version": "3.8.8"
  }
 },
 "nbformat": 4,
 "nbformat_minor": 5
}
